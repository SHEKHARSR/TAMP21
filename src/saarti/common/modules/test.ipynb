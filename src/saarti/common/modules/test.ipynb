{
 "metadata": {
  "language_info": {
   "codemirror_mode": {
    "name": "ipython",
    "version": 3
   },
   "file_extension": ".py",
   "mimetype": "text/x-python",
   "name": "python",
   "nbconvert_exporter": "python",
   "pygments_lexer": "ipython3",
   "version": "2.7.17"
  },
  "orig_nbformat": 2,
  "kernelspec": {
   "name": "python2717jvsc74a57bd0767d51c1340bd893661ea55ea3124f6de3c7a262a8b4abca0554b478b1e2ff90",
   "display_name": "Python 2.7.17 64-bit"
  },
  "metadata": {
   "interpreter": {
    "hash": "767d51c1340bd893661ea55ea3124f6de3c7a262a8b4abca0554b478b1e2ff90"
   }
  }
 },
 "nbformat": 4,
 "nbformat_minor": 2,
 "cells": [
  {
   "cell_type": "code",
   "execution_count": 4,
   "metadata": {},
   "outputs": [],
   "source": [
    "import os\n",
    "from os import path\n",
    "import utm\n",
    "import simplekml\n",
    "import numpy as np\n",
    "import matplotlib.pyplot as plt\n",
    "from lxml import etree \n",
    "import yaml\n",
    "from coordinate_transforms import ptsFrenetToCartesian\n",
    "from util import angleToContinous\n",
    "#from util import angleToInterval\n",
    "import re\n",
    "from scipy import interpolate"
   ]
  },
  {
   "cell_type": "code",
   "execution_count": 5,
   "metadata": {},
   "outputs": [],
   "source": [
    "def get_oval_shape_cl(R_curves,l_straight,l_connect):\n",
    "    # params\n",
    "    la = l_straight\n",
    "    Rta = R_curves\n",
    "    l_resetstraight = l_connect\n",
    "    \n",
    "    # section a (first straight bit)\n",
    "    Na = int(la)*5\n",
    "    Xa = np.linspace(0,la,Na)\n",
    "    Ya = np.zeros(Na)\n",
    "    \n",
    "    # section b \n",
    "    Nb = np.ceil(Rta*np.pi)*5\n",
    "    t = np.linspace(np.pi/2,-np.pi/2,Nb)\n",
    "    Xb = Rta*np.cos(t) + Xa[-1]\n",
    "    Yb = Rta*np.sin(t) - Rta + Ya[-1]\n",
    "    \n",
    "    # section c\n",
    "    lc = la + l_resetstraight\n",
    "    Nc = int(lc)*5\n",
    "    Xc = np.linspace(Xb[-1],Xb[-1]-lc,Nc)\n",
    "    Yc = np.zeros(Nc) + Yb[-1]\n",
    "    \n",
    "    # section d\n",
    "    Nd = np.ceil(Rta*np.pi)*5 \n",
    "    t = np.linspace(-np.pi/2,-3*np.pi/2,Nd)\n",
    "    Xd = Rta*np.cos(t) + Xc[-1]\n",
    "    Yd = Rta*np.sin(t) + Yc[-1]+Rta\n",
    "    \n",
    "    # section e\n",
    "    le = l_resetstraight/2.0\n",
    "    Ne = int(le)*5\n",
    "    Xe = np.linspace(Xd[-1],0,Ne)\n",
    "    Ye = np.zeros(Ne)\n",
    "    \n",
    "    # concatenate vectors\n",
    "    X_cl_tmp = np.concatenate((Xa[0:-1], Xb[0:-1], Xc[0:-1], Xd[0:-1], Xe[0:-1]), axis=0)\n",
    "    Y_cl_tmp = np.concatenate((Ya[0:-1], Yb[0:-1], Yc[0:-1], Yd[0:-1], Ye[0:-1]), axis=0)\n",
    "    #print X_cl_tmp\n",
    "    #print Y_cl_tmp\n",
    "    #print X_cl_tmp.size\n",
    "    #print Y_cl_tmp.shape\n"
   ]
  },
  {
   "cell_type": "code",
   "execution_count": 8,
   "metadata": {},
   "outputs": [
    {
     "output_type": "stream",
     "name": "stderr",
     "text": [
      "/home/nvidia/.local/lib/python2.7/site-packages/ipykernel_launcher.py:3: DeprecationWarning: object of type <type 'numpy.float64'> cannot be safely interpreted as an integer.\n  This is separate from the ipykernel package so we can avoid doing imports until\n"
     ]
    },
    {
     "output_type": "error",
     "ename": "NameError",
     "evalue": "name 'Xa' is not defined",
     "traceback": [
      "\u001b[0;31m\u001b[0m",
      "\u001b[0;31mNameError\u001b[0mTraceback (most recent call last)",
      "\u001b[0;32m<ipython-input-8-0f4fbe229b5d>\u001b[0m in \u001b[0;36m<module>\u001b[0;34m()\u001b[0m\n\u001b[1;32m      2\u001b[0m \u001b[0mNb\u001b[0m \u001b[0;34m=\u001b[0m \u001b[0mnp\u001b[0m\u001b[0;34m.\u001b[0m\u001b[0mceil\u001b[0m\u001b[0;34m(\u001b[0m\u001b[0mRta\u001b[0m\u001b[0;34m*\u001b[0m\u001b[0mnp\u001b[0m\u001b[0;34m.\u001b[0m\u001b[0mpi\u001b[0m\u001b[0;34m)\u001b[0m\u001b[0;34m*\u001b[0m\u001b[0;36m5\u001b[0m\u001b[0;34m\u001b[0m\u001b[0m\n\u001b[1;32m      3\u001b[0m \u001b[0mt\u001b[0m \u001b[0;34m=\u001b[0m \u001b[0mnp\u001b[0m\u001b[0;34m.\u001b[0m\u001b[0mlinspace\u001b[0m\u001b[0;34m(\u001b[0m\u001b[0mnp\u001b[0m\u001b[0;34m.\u001b[0m\u001b[0mpi\u001b[0m\u001b[0;34m/\u001b[0m\u001b[0;36m2\u001b[0m\u001b[0;34m,\u001b[0m\u001b[0;34m-\u001b[0m\u001b[0mnp\u001b[0m\u001b[0;34m.\u001b[0m\u001b[0mpi\u001b[0m\u001b[0;34m/\u001b[0m\u001b[0;36m2\u001b[0m\u001b[0;34m,\u001b[0m\u001b[0mNb\u001b[0m\u001b[0;34m)\u001b[0m\u001b[0;34m\u001b[0m\u001b[0m\n\u001b[0;32m----> 4\u001b[0;31m \u001b[0mXb\u001b[0m \u001b[0;34m=\u001b[0m \u001b[0mRta\u001b[0m\u001b[0;34m*\u001b[0m\u001b[0mnp\u001b[0m\u001b[0;34m.\u001b[0m\u001b[0mcos\u001b[0m\u001b[0;34m(\u001b[0m\u001b[0mt\u001b[0m\u001b[0;34m)\u001b[0m \u001b[0;34m+\u001b[0m \u001b[0mXa\u001b[0m\u001b[0;34m[\u001b[0m\u001b[0;34m-\u001b[0m\u001b[0;36m1\u001b[0m\u001b[0;34m]\u001b[0m\u001b[0;34m\u001b[0m\u001b[0m\n\u001b[0m\u001b[1;32m      5\u001b[0m \u001b[0mYb\u001b[0m \u001b[0;34m=\u001b[0m \u001b[0mRta\u001b[0m\u001b[0;34m*\u001b[0m\u001b[0mnp\u001b[0m\u001b[0;34m.\u001b[0m\u001b[0msin\u001b[0m\u001b[0;34m(\u001b[0m\u001b[0mt\u001b[0m\u001b[0;34m)\u001b[0m \u001b[0;34m-\u001b[0m \u001b[0mRta\u001b[0m \u001b[0;34m+\u001b[0m \u001b[0mYa\u001b[0m\u001b[0;34m[\u001b[0m\u001b[0;34m-\u001b[0m\u001b[0;36m1\u001b[0m\u001b[0;34m]\u001b[0m\u001b[0;34m\u001b[0m\u001b[0m\n",
      "\u001b[0;31mNameError\u001b[0m: name 'Xa' is not defined"
     ]
    }
   ],
   "source": [
    "    Rta = 10\n",
    "    Nb = np.ceil(Rta*np.pi)*5\n",
    "    t = np.linspace(np.pi/2,-np.pi/2,Nb)\n",
    "    Xb = Rta*np.cos(t)\n",
    "    Yb = Rta*np.sin(t) - Rta"
   ]
  }
 ]
}